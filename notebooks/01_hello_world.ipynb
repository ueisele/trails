{
 "cells": [
  {
   "cell_type": "markdown",
   "id": "0",
   "metadata": {},
   "source": [
    "# Hello World - Trail Analysis Setup Test\n",
    "\n",
    "This notebook tests the basic setup of our trail analysis project.\n",
    "It verifies that:\n",
    "- The `trails` package can be imported\n",
    "- Basic dependencies are working\n",
    "- We can create simple visualizations"
   ]
  },
  {
   "cell_type": "markdown",
   "id": "1",
   "metadata": {},
   "source": [
    "## 1. Import Libraries and Test Package"
   ]
  },
  {
   "cell_type": "code",
   "execution_count": null,
   "id": "2",
   "metadata": {},
   "outputs": [],
   "source": [
    "import sys\n",
    "\n",
    "import matplotlib.pyplot as plt\n",
    "import numpy as np\n",
    "import pandas as pd\n",
    "\n",
    "# Import from our custom package\n",
    "from trails.utils.hello import get_sample_data, hello_trails\n",
    "\n",
    "print(f\"Python version: {sys.version}\")\n",
    "print(f\"NumPy version: {np.__version__}\")\n",
    "print(f\"Pandas version: {pd.__version__}\")"
   ]
  },
  {
   "cell_type": "markdown",
   "id": "3",
   "metadata": {},
   "source": [
    "## 2. Test the Package Functions"
   ]
  },
  {
   "cell_type": "code",
   "execution_count": null,
   "id": "4",
   "metadata": {},
   "outputs": [],
   "source": [
    "# Test hello function\n",
    "message = hello_trails(\"Hiker\")\n",
    "print(message)\n",
    "\n",
    "# Get sample data\n",
    "sample_trail = get_sample_data()\n",
    "print(\"\\nSample trail data:\")\n",
    "for key, value in sample_trail.items():\n",
    "    print(f\"  {key}: {value}\")"
   ]
  },
  {
   "cell_type": "markdown",
   "id": "5",
   "metadata": {},
   "source": [
    "## 3. Create a Simple DataFrame"
   ]
  },
  {
   "cell_type": "code",
   "execution_count": null,
   "id": "6",
   "metadata": {},
   "outputs": [],
   "source": [
    "# Create sample trail data\n",
    "trails_data = {\n",
    "    \"trail_name\": [\"Boulder Creek\", \"Royal Arch\", \"Flatirons Loop\", \"Green Mountain\", \"Bear Peak\"],\n",
    "    \"distance_km\": [8.5, 5.6, 4.2, 9.1, 11.3],\n",
    "    \"elevation_gain_m\": [450, 420, 280, 730, 950],\n",
    "    \"difficulty\": [\"moderate\", \"moderate\", \"easy\", \"hard\", \"hard\"],\n",
    "    \"avg_time_hours\": [3.5, 3.0, 2.0, 4.5, 5.5],\n",
    "}\n",
    "\n",
    "df = pd.DataFrame(trails_data)\n",
    "print(\"Trail Database:\")\n",
    "df"
   ]
  },
  {
   "cell_type": "markdown",
   "id": "7",
   "metadata": {},
   "source": [
    "## 4. Create Simple Visualizations"
   ]
  },
  {
   "cell_type": "code",
   "execution_count": null,
   "id": "8",
   "metadata": {},
   "outputs": [],
   "source": [
    "# Set up the plot style\n",
    "from matplotlib.patches import Patch\n",
    "\n",
    "plt.style.use(\"seaborn-v0_8-darkgrid\")\n",
    "fig, axes = plt.subplots(1, 2, figsize=(12, 5))\n",
    "\n",
    "# Distance vs Elevation Gain\n",
    "axes[0].scatter(\n",
    "    df[\"distance_km\"],\n",
    "    df[\"elevation_gain_m\"],\n",
    "    c=[\"green\" if d == \"easy\" else \"orange\" if d == \"moderate\" else \"red\" for d in df[\"difficulty\"]],\n",
    "    s=100,\n",
    "    alpha=0.6,\n",
    ")\n",
    "axes[0].set_xlabel(\"Distance (km)\")\n",
    "axes[0].set_ylabel(\"Elevation Gain (m)\")\n",
    "axes[0].set_title(\"Trail Distance vs Elevation Gain\")\n",
    "axes[0].grid(True, alpha=0.3)\n",
    "\n",
    "# Add trail names\n",
    "for _idx, row in df.iterrows():\n",
    "    axes[0].annotate(\n",
    "        row[\"trail_name\"],\n",
    "        (row[\"distance_km\"], row[\"elevation_gain_m\"]),\n",
    "        xytext=(5, 5),\n",
    "        textcoords=\"offset points\",\n",
    "        fontsize=8,\n",
    "    )\n",
    "\n",
    "# Bar chart of average time\n",
    "colors = [\"green\" if d == \"easy\" else \"orange\" if d == \"moderate\" else \"red\" for d in df[\"difficulty\"]]\n",
    "bars = axes[1].bar(range(len(df)), df[\"avg_time_hours\"], color=colors, alpha=0.6)\n",
    "axes[1].set_xticks(range(len(df)))\n",
    "axes[1].set_xticklabels(df[\"trail_name\"], rotation=45, ha=\"right\")\n",
    "axes[1].set_ylabel(\"Average Time (hours)\")\n",
    "axes[1].set_title(\"Average Hiking Time by Trail\")\n",
    "axes[1].grid(True, alpha=0.3, axis=\"y\")\n",
    "\n",
    "# Add legend\n",
    "legend_elements = [\n",
    "    Patch(facecolor=\"green\", alpha=0.6, label=\"Easy\"),\n",
    "    Patch(facecolor=\"orange\", alpha=0.6, label=\"Moderate\"),\n",
    "    Patch(facecolor=\"red\", alpha=0.6, label=\"Hard\"),\n",
    "]\n",
    "axes[1].legend(handles=legend_elements, loc=\"upper left\")\n",
    "\n",
    "plt.tight_layout()\n",
    "plt.show()"
   ]
  },
  {
   "cell_type": "markdown",
   "id": "9",
   "metadata": {},
   "source": [
    "## 5. Summary Statistics"
   ]
  },
  {
   "cell_type": "code",
   "execution_count": null,
   "id": "10",
   "metadata": {},
   "outputs": [],
   "source": [
    "# Calculate some statistics\n",
    "print(\"Trail Statistics:\")\n",
    "print(\"=\" * 40)\n",
    "print(f\"Total trails: {len(df)}\")\n",
    "print(f\"Average distance: {df['distance_km'].mean():.1f} km\")\n",
    "print(f\"Average elevation gain: {df['elevation_gain_m'].mean():.0f} m\")\n",
    "print(f\"Total hiking time: {df['avg_time_hours'].sum():.1f} hours\")\n",
    "print(\"\\nDifficulty distribution:\")\n",
    "print(df[\"difficulty\"].value_counts())"
   ]
  },
  {
   "cell_type": "markdown",
   "id": "11",
   "metadata": {},
   "source": [
    "## Conclusion\n",
    "\n",
    "✅ Successfully imported the `trails` package  \n",
    "✅ All dependencies are working correctly  \n",
    "✅ Can create DataFrames and visualizations  \n",
    "✅ Project setup is complete and ready for trail analysis!\n",
    "\n",
    "### Next Steps\n",
    "- Add GPS data loading functionality\n",
    "- Implement elevation profile analysis\n",
    "- Create interactive maps with Folium\n",
    "- Connect to real trail data sources"
   ]
  }
 ],
 "metadata": {
  "kernelspec": {
   "display_name": "Python 3",
   "language": "python",
   "name": "python3"
  },
  "language_info": {
   "codemirror_mode": {
    "name": "ipython",
    "version": 3
   },
   "file_extension": ".py",
   "mimetype": "text/x-python",
   "name": "python",
   "nbconvert_exporter": "python",
   "pygments_lexer": "ipython3",
   "version": "3.11.0"
  }
 },
 "nbformat": 4,
 "nbformat_minor": 5
}
