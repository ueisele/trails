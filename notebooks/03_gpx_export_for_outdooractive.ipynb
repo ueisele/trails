{
 "cells": [
  {
   "cell_type": "markdown",
   "metadata": {},
   "source": [
    "# GPX Export for Outdooractive\n",
    "\n",
    "This notebook demonstrates how to:\n",
    "1. Select a rectangular area on a map of Norway\n",
    "2. Filter trails that intersect with the selected area\n",
    "3. Export the trails to GPX format suitable for Outdooractive import"
   ]
  },
  {
   "cell_type": "markdown",
   "metadata": {},
   "source": [
    "## 1. Setup and Data Loading"
   ]
  },
  {
   "cell_type": "code",
   "execution_count": null,
   "metadata": {},
   "outputs": [],
   "source": [
    "import sys\n",
    "from pathlib import Path\n",
    "\n",
    "import geopandas as gpd\n",
    "\n",
    "# Add project root to path\n",
    "project_root = Path.cwd().parent if Path.cwd().name == \"notebooks\" else Path.cwd()\n",
    "if str(project_root) not in sys.path:\n",
    "    sys.path.insert(0, str(project_root))\n",
    "\n",
    "# Import our modules\n",
    "from trails.io.export.area_selector import (  # noqa: E402\n",
    "    create_interactive_selection_map,\n",
    "    save_selection_preset,\n",
    ")\n",
    "from trails.io.export.gpx import export_to_gpx, filter_trails_by_bbox  # noqa: E402\n",
    "from trails.io.sources.geonorge import Language, Source  # noqa: E402\n",
    "\n",
    "print(\"✓ Modules loaded\")"
   ]
  },
  {
   "cell_type": "code",
   "execution_count": null,
   "metadata": {},
   "outputs": [],
   "source": [
    "# Load trail data (using cache in repo root)\n",
    "print(\"Loading trail data...\")\n",
    "source = Source(cache_dir=str(project_root / \".cache\"))\n",
    "trail_data = source.load_turrutebasen(language=Language.EN)\n",
    "\n",
    "# Get the main trail layer\n",
    "trails = trail_data.spatial_layers[\"hiking_trail_centerline\"]\n",
    "print(f\"\\nLoaded {len(trails):,} trail segments\")\n",
    "print(f\"CRS: {trails.crs}\")\n",
    "print(f\"Total bounds: {trails.total_bounds}\")"
   ]
  },
  {
   "cell_type": "markdown",
   "metadata": {},
   "source": [
    "## 2. Interactive Area Selection\n",
    "\n",
    "Use the map below to select your area of interest:"
   ]
  },
  {
   "cell_type": "markdown",
   "metadata": {},
   "source": [
    "## 2. Interactive Area Selection (NEW!)\n",
    "\n",
    "### ✨ Automatic Bounds Capture\n",
    "\n",
    "1. **Search for a city** using the magnifying glass icon\n",
    "2. **Draw a rectangle** around your area of interest\n",
    "3. **Bounds are captured automatically** - no copying needed!\n",
    "\n",
    "The selected bounds will be available in the next cell."
   ]
  },
  {
   "cell_type": "code",
   "execution_count": null,
   "metadata": {},
   "outputs": [],
   "source": [
    "# Create interactive selection map with automatic bounds capture\n",
    "map_widget, bounds_container = create_interactive_selection_map(trails, zoom_start=5)\n",
    "\n",
    "# Display the interactive map\n",
    "map_widget"
   ]
  },
  {
   "cell_type": "markdown",
   "metadata": {},
   "source": [
    "## 3. Save Area Preset (Optional)\n",
    "\n",
    "Save your selected area for future use:"
   ]
  },
  {
   "cell_type": "code",
   "execution_count": null,
   "metadata": {},
   "outputs": [],
   "source": [
    "# Save the current selection as a preset\n",
    "selected_bounds = bounds_container[\"bounds\"]\n",
    "\n",
    "if selected_bounds:\n",
    "    preset_file = project_root / \".cache\" / \"area_presets.json\"\n",
    "    save_selection_preset(\"gjerstad_nissedal\", selected_bounds, \"Gjerstad and Nissedal area\", presets_file=preset_file)\n",
    "    print(\"✓ Area preset saved!\")\n",
    "\n",
    "    # Load it back (example)\n",
    "    from trails.io.export.area_selector import load_selection_preset\n",
    "\n",
    "    loaded_bounds = load_selection_preset(\"gjerstad_nissedal\", presets_file=preset_file)\n",
    "    print(f\"\\nLoaded preset: {loaded_bounds}\")"
   ]
  },
  {
   "cell_type": "markdown",
   "metadata": {},
   "source": [
    "## 4. Process Selected Area"
   ]
  },
  {
   "cell_type": "code",
   "execution_count": null,
   "metadata": {},
   "outputs": [],
   "source": [
    "# Get the automatically captured bounds\n",
    "selected_bounds = bounds_container[\"bounds\"]\n",
    "\n",
    "if selected_bounds:\n",
    "    print(f\"✅ Using auto-captured bounds: {selected_bounds}\")\n",
    "    print(f\"  Longitude: {selected_bounds[0]:.2f} to {selected_bounds[2]:.2f}\")\n",
    "    print(f\"  Latitude: {selected_bounds[1]:.2f} to {selected_bounds[3]:.2f}\")\n",
    "else:\n",
    "    print(\"⚠️ No area selected yet! Please draw a rectangle on the map above.\")\n",
    "    print(\"\\nAlternatively, you can manually set bounds:\")\n",
    "    print(\"# selected_bounds = (8.5, 58.8, 9.2, 59.2)  # Gjerstad/Nissedal\")\n",
    "    print(\"# selected_bounds = (10.3, 59.8, 11.0, 60.2)  # Oslo\")\n",
    "    print(\"# selected_bounds = (5.0, 60.2, 5.8, 60.6)  # Bergen\")\n",
    "\n",
    "    # Default to Gjerstad/Nissedal for demo\n",
    "    selected_bounds = (8.5, 58.8, 9.2, 59.2)\n",
    "    print(\"\\n📍 Using default area: Gjerstad/Nissedal\")"
   ]
  },
  {
   "cell_type": "code",
   "execution_count": null,
   "metadata": {},
   "outputs": [],
   "source": [
    "# Filter trails by selected area\n",
    "if selected_bounds:\n",
    "    # Convert bounds to trail CRS\n",
    "    from shapely.geometry import box\n",
    "\n",
    "    bounds_gdf = gpd.GeoDataFrame([1], geometry=[box(*selected_bounds)], crs=\"EPSG:4326\")\n",
    "\n",
    "    if trails.crs != \"EPSG:4326\":\n",
    "        bounds_gdf = bounds_gdf.to_crs(trails.crs)  # type: ignore[arg-type]\n",
    "        area_bounds = bounds_gdf.geometry[0].bounds\n",
    "    else:\n",
    "        area_bounds = selected_bounds\n",
    "\n",
    "    # Filter with optional buffer\n",
    "    buffer_km = 5  # Add 5km buffer around selection\n",
    "    filtered_trails = filter_trails_by_bbox(trails, area_bounds, buffer_m=buffer_km * 1000)\n",
    "\n",
    "    print(\"\\n📊 Filtering results:\")\n",
    "    print(f\"  Original trails: {len(trails):,}\")\n",
    "    print(f\"  Filtered trails: {len(filtered_trails):,}\")\n",
    "    print(f\"  Buffer applied: {buffer_km} km\")\n",
    "\n",
    "    # Calculate statistics\n",
    "    total_length_km = filtered_trails.geometry.length.sum() / 1000\n",
    "    print(f\"  Total length: {total_length_km:,.1f} km\")"
   ]
  },
  {
   "cell_type": "markdown",
   "metadata": {},
   "source": [
    "## 4. Enrich Trail Data\n",
    "\n",
    "Add names and metadata from attribute tables:"
   ]
  },
  {
   "cell_type": "code",
   "execution_count": null,
   "metadata": {},
   "outputs": [],
   "source": [
    "# Join with attribute data\n",
    "hiking_attrs = trail_data.attribute_tables[\"hiking_trail_info_table\"]\n",
    "\n",
    "# Join filtered trails with attributes\n",
    "enriched_trails = filtered_trails.merge(\n",
    "    hiking_attrs[\n",
    "        [\n",
    "            \"hiking_trail_fk\",\n",
    "            \"trail_number\",\n",
    "            \"trail_name\",\n",
    "            \"special_hiking_trail_type\",\n",
    "            \"maintenance_responsible\",\n",
    "            \"difficulty\",\n",
    "        ]\n",
    "    ],\n",
    "    left_on=\"local_id\",\n",
    "    right_on=\"hiking_trail_fk\",\n",
    "    how=\"left\",\n",
    ")\n",
    "\n",
    "print(\"\\n📝 Trail data enrichment:\")\n",
    "print(f\"  Trails with numbers: {enriched_trails['trail_number'].notna().sum():,}\")\n",
    "print(f\"  Trails with names: {enriched_trails['trail_name'].notna().sum():,}\")\n",
    "print(f\"  Trails with types: {enriched_trails['special_hiking_trail_type'].notna().sum():,}\")\n",
    "print(f\"  Trails with maintainer: {enriched_trails['maintenance_responsible'].notna().sum():,}\")\n",
    "print(f\"  Trails with difficulty: {enriched_trails['difficulty'].notna().sum():,}\")\n",
    "\n",
    "# Show sample\n",
    "print(\"\\n Sample trails:\")\n",
    "sample = enriched_trails[enriched_trails[\"trail_name\"].notna()].head(5)\n",
    "for _, trail in sample.iterrows():\n",
    "    print(f\"  • {trail['trail_name']}: {trail.geometry.length / 1000:.1f} km\")"
   ]
  },
  {
   "cell_type": "markdown",
   "metadata": {},
   "source": [
    "## 5. Export to GPX\n",
    "\n",
    "Generate GPX file optimized for Outdooractive:"
   ]
  },
  {
   "cell_type": "code",
   "execution_count": null,
   "metadata": {},
   "outputs": [],
   "source": [
    "# Export options\n",
    "output_dir = project_root / \"output\"\n",
    "output_dir.mkdir(exist_ok=True)\n",
    "gpx_file = output_dir / \"trails_export.gpx\"\n",
    "print(\"🔧 Export settings:\")\n",
    "print(f\"  Output file: {gpx_file}\")\n",
    "print(\"  Simplification: Enabled (reduces file size)\")\n",
    "print(f\"  Max trails: None (export all {len(enriched_trails)} trails)\")\n",
    "print(\"  Description fields: maintenance, difficulty, marking\")\n",
    "\n",
    "# Perform export\n",
    "output_path, stats = export_to_gpx(\n",
    "    enriched_trails,\n",
    "    gpx_file,\n",
    "    name_field=\"trail_name\",\n",
    "    desc_fields=[\n",
    "        \"trail_number\",\n",
    "        \"special_hiking_trail_type\",\n",
    "        \"difficulty\",\n",
    "        \"marking\",\n",
    "        \"season\",\n",
    "        \"trail_follows\",\n",
    "        \"maintenance_responsible\",\n",
    "        \"accuracy\",\n",
    "        \"data_capture_date\",\n",
    "        \"update_date\",\n",
    "    ],\n",
    "    simplify_tolerance=0.00001,  # ~1 meter at Norway latitudes\n",
    "    max_trails=None,  # Set to e.g. 100 for testing\n",
    ")\n",
    "\n",
    "print(\"\\n✅ Export complete!\")\n",
    "print(\"\\n📊 Export statistics:\")\n",
    "for key, value in stats.items():\n",
    "    if key == \"file_size_mb\":\n",
    "        print(f\"  {key}: {value:.2f} MB\")\n",
    "    else:\n",
    "        print(f\"  {key}: {value:,}\")"
   ]
  },
  {
   "cell_type": "markdown",
   "metadata": {},
   "source": [
    "## 7. Verify GPX File\n",
    "\n",
    "Quick validation of the generated GPX:"
   ]
  },
  {
   "cell_type": "code",
   "execution_count": null,
   "metadata": {},
   "outputs": [],
   "source": [
    "# Parse and validate GPX\n",
    "from lxml import etree\n",
    "\n",
    "if gpx_file.exists():\n",
    "    # Parse GPX\n",
    "    with open(gpx_file, \"rb\") as f:\n",
    "        tree = etree.parse(f)\n",
    "        root = tree.getroot()\n",
    "\n",
    "    # Count elements\n",
    "    ns = {\"gpx\": \"http://www.topografix.com/GPX/1/1\"}\n",
    "    tracks = root.xpath(\"//gpx:trk\", namespaces=ns)\n",
    "    segments = root.xpath(\"//gpx:trkseg\", namespaces=ns)\n",
    "    points = root.xpath(\"//gpx:trkpt\", namespaces=ns)\n",
    "\n",
    "    print(\"📋 GPX file validation:\")\n",
    "    print(f\"  Tracks: {len(tracks)}\")\n",
    "    print(f\"  Segments: {len(segments)}\")\n",
    "    print(f\"  Points: {len(points):,}\")\n",
    "    print(f\"  Avg points/track: {len(points) / len(tracks):.0f}\" if tracks else \"\")\n",
    "\n",
    "    # Show first track\n",
    "    if tracks:\n",
    "        first_track = tracks[0]\n",
    "        name = first_track.find(\"gpx:name\", ns)\n",
    "        desc = first_track.find(\"gpx:desc\", ns)\n",
    "        print(\"\\nFirst track:\")\n",
    "        print(f\"  Name: {name.text if name is not None else 'No name'}\")\n",
    "        print(f\"  Description: {desc.text[:100] if desc is not None else 'No description'}...\")\n",
    "\n",
    "    print(\"\\n✅ GPX file is valid and ready for Outdooractive import!\")\n",
    "    print(\"\\n📱 Next steps:\")\n",
    "    print(f\"   1. Open {gpx_file}\")\n",
    "    print(\"   2. Upload to Outdooractive.com\")\n",
    "    print(\"   3. Or import via Outdooractive mobile app\")\n",
    "else:\n",
    "    print(\"❌ GPX file not found\")"
   ]
  },
  {
   "cell_type": "markdown",
   "metadata": {},
   "source": [
    "## Summary\n",
    "\n",
    "### What We've Accomplished:\n",
    "\n",
    "1. **Area Selection**: Interactive map with rectangle drawing tool\n",
    "2. **Spatial Filtering**: Efficient filtering of trails by bounding box with optional buffer\n",
    "3. **GPX Export**: Standards-compliant GPX 1.1 format with:\n",
    "   - Trail names and descriptions\n",
    "   - Geometry simplification to reduce file size\n",
    "   - Proper WGS84 coordinates\n",
    "4. **Outdooractive Compatibility**: \n",
    "   - Each trail as separate `<trk>` element\n",
    "   - Metadata in description fields\n",
    "   - Optimized point density\n",
    "\n",
    "### Limitations & Considerations:\n",
    "\n",
    "- **File Size**: Large areas may produce files >20MB (Outdooractive limit)\n",
    "- **Point Density**: Simplified to ~1m accuracy to reduce size\n",
    "- **Metadata**: Limited to available fields in Norwegian dataset\n",
    "- **Interactive Selection**: Full interactivity requires opening HTML file in browser\n",
    "\n",
    "### Possible Enhancements:\n",
    "\n",
    "1. Add elevation data from DEM files\n",
    "2. Split large exports into multiple GPX files\n",
    "3. Filter by trail difficulty or type\n",
    "4. Add waypoints for trail intersections\n",
    "5. Generate route suggestions based on difficulty"
   ]
  }
 ],
 "metadata": {
  "kernelspec": {
   "display_name": "Python 3",
   "language": "python",
   "name": "python3"
  },
  "language_info": {
   "name": "python",
   "version": "3.11.0"
  }
 },
 "nbformat": 4,
 "nbformat_minor": 4
}
